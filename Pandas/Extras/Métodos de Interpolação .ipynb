{
 "cells": [
  {
   "cell_type": "code",
   "execution_count": 2,
   "id": "010405d6",
   "metadata": {},
   "outputs": [],
   "source": [
    "import pandas as pd \n",
    "data=[0.5, None, 0.52, 0.54, None, None ,0.59, 0.6,None, 0.7]\n",
    "s=pd.Series(data)\n",
    "      "
   ]
  },
  {
   "cell_type": "code",
   "execution_count": 3,
   "id": "9609d040",
   "metadata": {},
   "outputs": [
    {
     "data": {
      "text/plain": [
       "0    0.50\n",
       "1    0.00\n",
       "2    0.52\n",
       "3    0.54\n",
       "4    0.00\n",
       "5    0.00\n",
       "6    0.59\n",
       "7    0.60\n",
       "8    0.00\n",
       "9    0.70\n",
       "dtype: float64"
      ]
     },
     "execution_count": 3,
     "metadata": {},
     "output_type": "execute_result"
    }
   ],
   "source": [
    "s.fillna(0)"
   ]
  },
  {
   "cell_type": "markdown",
   "id": "7fc91439",
   "metadata": {},
   "source": [
    "Mas ele também tem outras maneiras de preencher esses dados!"
   ]
  },
  {
   "cell_type": "code",
   "execution_count": 4,
   "id": "e2b043a8",
   "metadata": {},
   "outputs": [
    {
     "data": {
      "text/plain": [
       "0    0.50\n",
       "1    0.50\n",
       "2    0.52\n",
       "3    0.54\n",
       "4    0.54\n",
       "5    0.54\n",
       "6    0.59\n",
       "7    0.60\n",
       "8    0.60\n",
       "9    0.70\n",
       "dtype: float64"
      ]
     },
     "execution_count": 4,
     "metadata": {},
     "output_type": "execute_result"
    }
   ],
   "source": [
    "s.fillna(method='ffill') # Pega o anterior e joga no valor do faltante"
   ]
  },
  {
   "cell_type": "code",
   "execution_count": 6,
   "id": "cbd154dc",
   "metadata": {},
   "outputs": [
    {
     "data": {
      "text/plain": [
       "0    0.50\n",
       "1    0.52\n",
       "2    0.52\n",
       "3    0.54\n",
       "4    0.59\n",
       "5    0.59\n",
       "6    0.59\n",
       "7    0.60\n",
       "8    0.70\n",
       "9    0.70\n",
       "dtype: float64"
      ]
     },
     "execution_count": 6,
     "metadata": {},
     "output_type": "execute_result"
    }
   ],
   "source": [
    "s.fillna(method='bfill') # Pego o próximo e joga no valor do faltante"
   ]
  },
  {
   "cell_type": "code",
   "execution_count": 9,
   "id": "fbaa3861",
   "metadata": {},
   "outputs": [
    {
     "data": {
      "text/plain": [
       "0    0.500\n",
       "1    0.575\n",
       "2    0.520\n",
       "3    0.540\n",
       "4    0.575\n",
       "5    0.575\n",
       "6    0.590\n",
       "7    0.600\n",
       "8    0.575\n",
       "9    0.700\n",
       "dtype: float64"
      ]
     },
     "execution_count": 9,
     "metadata": {},
     "output_type": "execute_result"
    }
   ],
   "source": [
    "s.fillna(s.mean()) # Aqui ele vai substituir os Faltantes pela média!"
   ]
  },
  {
   "cell_type": "code",
   "execution_count": 11,
   "id": "8c993881",
   "metadata": {},
   "outputs": [
    {
     "data": {
      "text/plain": [
       "0    0.50\n",
       "1    0.50\n",
       "2    0.52\n",
       "3    0.54\n",
       "4    0.54\n",
       "5     NaN\n",
       "6    0.59\n",
       "7    0.60\n",
       "8    0.60\n",
       "9    0.70\n",
       "dtype: float64"
      ]
     },
     "execution_count": 11,
     "metadata": {},
     "output_type": "execute_result"
    }
   ],
   "source": [
    "s.fillna(method='ffill',limit=1) #só vai substituir o primeiro faltante"
   ]
  },
  {
   "cell_type": "code",
   "execution_count": 13,
   "id": "f916f31a",
   "metadata": {},
   "outputs": [
    {
     "data": {
      "text/plain": [
       "0    0.50\n",
       "1    0.50\n",
       "2    0.52\n",
       "3    0.54\n",
       "4    0.54\n",
       "5     NaN\n",
       "6    0.59\n",
       "7    0.60\n",
       "8    0.60\n",
       "9    0.70\n",
       "dtype: float64"
      ]
     },
     "execution_count": 13,
     "metadata": {},
     "output_type": "execute_result"
    }
   ],
   "source": [
    "s1=s.fillna(method='ffill',limit=1) #só vai substituir o primeiro faltante\n",
    "s1"
   ]
  },
  {
   "cell_type": "markdown",
   "id": "3900251b",
   "metadata": {},
   "source": [
    "Agora vamos preencher com o de baixo!"
   ]
  },
  {
   "cell_type": "code",
   "execution_count": 14,
   "id": "9477bffc",
   "metadata": {},
   "outputs": [
    {
     "data": {
      "text/plain": [
       "0    0.50\n",
       "1    0.50\n",
       "2    0.52\n",
       "3    0.54\n",
       "4    0.54\n",
       "5    0.59\n",
       "6    0.59\n",
       "7    0.60\n",
       "8    0.60\n",
       "9    0.70\n",
       "dtype: float64"
      ]
     },
     "execution_count": 14,
     "metadata": {},
     "output_type": "execute_result"
    }
   ],
   "source": [
    "s1.fillna(method='bfill',limit=1)"
   ]
  },
  {
   "cell_type": "code",
   "execution_count": null,
   "id": "19f9f9bf",
   "metadata": {},
   "outputs": [],
   "source": []
  }
 ],
 "metadata": {
  "kernelspec": {
   "display_name": "Python 3",
   "language": "python",
   "name": "python3"
  },
  "language_info": {
   "codemirror_mode": {
    "name": "ipython",
    "version": 3
   },
   "file_extension": ".py",
   "mimetype": "text/x-python",
   "name": "python",
   "nbconvert_exporter": "python",
   "pygments_lexer": "ipython3",
   "version": "3.8.5"
  }
 },
 "nbformat": 4,
 "nbformat_minor": 5
}
