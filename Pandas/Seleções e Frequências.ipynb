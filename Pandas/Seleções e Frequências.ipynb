{
 "cells": [
  {
   "cell_type": "markdown",
   "id": "7b8a41d7",
   "metadata": {},
   "source": [
    "# Relatório de Análise 4"
   ]
  },
  {
   "cell_type": "markdown",
   "id": "e1c0e9b0",
   "metadata": {},
   "source": [
    "## Seleções e frequências"
   ]
  },
  {
   "cell_type": "markdown",
   "id": "0d226f05",
   "metadata": {},
   "source": [
    "Pedidos:\n",
    "\n",
    "    * Selecione somente os imóveis com o tipo Apartamento \n",
    "    * Selecione os imóveis classificados com tipos 'Casa', 'Casa de Condomínio' e 'Casa de Vila'\n",
    "    * Selecione os imóveis com área entre 60 e 100 metros quadrados, incluindo os limites \n",
    "    * Selecione os imóveis que tenham pelo menos 4 quartos e aluguel menor que R$ 2000,00"
   ]
  },
  {
   "cell_type": "code",
   "execution_count": 2,
   "id": "d59184d5",
   "metadata": {},
   "outputs": [
    {
     "data": {
      "text/html": [
       "<div>\n",
       "<style scoped>\n",
       "    .dataframe tbody tr th:only-of-type {\n",
       "        vertical-align: middle;\n",
       "    }\n",
       "\n",
       "    .dataframe tbody tr th {\n",
       "        vertical-align: top;\n",
       "    }\n",
       "\n",
       "    .dataframe thead th {\n",
       "        text-align: right;\n",
       "    }\n",
       "</style>\n",
       "<table border=\"1\" class=\"dataframe\">\n",
       "  <thead>\n",
       "    <tr style=\"text-align: right;\">\n",
       "      <th></th>\n",
       "      <th>Tipo</th>\n",
       "      <th>Bairro</th>\n",
       "      <th>Quartos</th>\n",
       "      <th>Vagas</th>\n",
       "      <th>Suites</th>\n",
       "      <th>Area</th>\n",
       "      <th>Valor</th>\n",
       "      <th>Condominio</th>\n",
       "      <th>IPTU</th>\n",
       "    </tr>\n",
       "  </thead>\n",
       "  <tbody>\n",
       "    <tr>\n",
       "      <th>0</th>\n",
       "      <td>Quitinete</td>\n",
       "      <td>Copacabana</td>\n",
       "      <td>1</td>\n",
       "      <td>0</td>\n",
       "      <td>0</td>\n",
       "      <td>40</td>\n",
       "      <td>1700.0</td>\n",
       "      <td>500.0</td>\n",
       "      <td>60.0</td>\n",
       "    </tr>\n",
       "    <tr>\n",
       "      <th>1</th>\n",
       "      <td>Casa</td>\n",
       "      <td>Jardim Botânico</td>\n",
       "      <td>2</td>\n",
       "      <td>0</td>\n",
       "      <td>1</td>\n",
       "      <td>100</td>\n",
       "      <td>7000.0</td>\n",
       "      <td>NaN</td>\n",
       "      <td>NaN</td>\n",
       "    </tr>\n",
       "    <tr>\n",
       "      <th>2</th>\n",
       "      <td>Apartamento</td>\n",
       "      <td>Centro</td>\n",
       "      <td>1</td>\n",
       "      <td>0</td>\n",
       "      <td>0</td>\n",
       "      <td>15</td>\n",
       "      <td>800.0</td>\n",
       "      <td>390.0</td>\n",
       "      <td>20.0</td>\n",
       "    </tr>\n",
       "    <tr>\n",
       "      <th>3</th>\n",
       "      <td>Apartamento</td>\n",
       "      <td>Higienópolis</td>\n",
       "      <td>1</td>\n",
       "      <td>0</td>\n",
       "      <td>0</td>\n",
       "      <td>48</td>\n",
       "      <td>800.0</td>\n",
       "      <td>230.0</td>\n",
       "      <td>NaN</td>\n",
       "    </tr>\n",
       "    <tr>\n",
       "      <th>4</th>\n",
       "      <td>Apartamento</td>\n",
       "      <td>Vista Alegre</td>\n",
       "      <td>3</td>\n",
       "      <td>1</td>\n",
       "      <td>0</td>\n",
       "      <td>70</td>\n",
       "      <td>1200.0</td>\n",
       "      <td>NaN</td>\n",
       "      <td>NaN</td>\n",
       "    </tr>\n",
       "  </tbody>\n",
       "</table>\n",
       "</div>"
      ],
      "text/plain": [
       "          Tipo           Bairro  Quartos  Vagas  Suites  Area   Valor  \\\n",
       "0    Quitinete       Copacabana        1      0       0    40  1700.0   \n",
       "1         Casa  Jardim Botânico        2      0       1   100  7000.0   \n",
       "2  Apartamento           Centro        1      0       0    15   800.0   \n",
       "3  Apartamento     Higienópolis        1      0       0    48   800.0   \n",
       "4  Apartamento     Vista Alegre        3      1       0    70  1200.0   \n",
       "\n",
       "   Condominio  IPTU  \n",
       "0       500.0  60.0  \n",
       "1         NaN   NaN  \n",
       "2       390.0  20.0  \n",
       "3       230.0   NaN  \n",
       "4         NaN   NaN  "
      ]
     },
     "execution_count": 2,
     "metadata": {},
     "output_type": "execute_result"
    }
   ],
   "source": [
    "import pandas as pd \n",
    "\n",
    "dados=pd.read_csv('dados/aluguel_residencial.csv',sep=';')\n",
    "dados.head()"
   ]
  },
  {
   "cell_type": "markdown",
   "id": "dfa08d70",
   "metadata": {},
   "source": [
    "Selecionando somente os imóveis com o tipo Apartamento: "
   ]
  },
  {
   "cell_type": "code",
   "execution_count": 4,
   "id": "ce794310",
   "metadata": {},
   "outputs": [
    {
     "data": {
      "text/plain": [
       "0        False\n",
       "1        False\n",
       "2         True\n",
       "3         True\n",
       "4         True\n",
       "         ...  \n",
       "22575     True\n",
       "22576    False\n",
       "22577     True\n",
       "22578     True\n",
       "22579     True\n",
       "Name: Tipo, Length: 22580, dtype: bool"
      ]
     },
     "execution_count": 4,
     "metadata": {},
     "output_type": "execute_result"
    }
   ],
   "source": [
    "selecao=dados['Tipo']=='Apartamento'\n",
    "selecao"
   ]
  },
  {
   "cell_type": "markdown",
   "id": "5ca8d1bb",
   "metadata": {},
   "source": [
    "Vendo quantos AP's temos nesse conjunto de dados:"
   ]
  },
  {
   "cell_type": "code",
   "execution_count": 6,
   "id": "ee445475",
   "metadata": {},
   "outputs": [
    {
     "data": {
      "text/plain": [
       "19532"
      ]
     },
     "execution_count": 6,
     "metadata": {},
     "output_type": "execute_result"
    }
   ],
   "source": [
    "n1=dados[selecao].shape[0] \n",
    "n1"
   ]
  },
  {
   "cell_type": "markdown",
   "id": "ee06f7e8",
   "metadata": {},
   "source": [
    "Selecionando os imóveis classificados com tipos 'Casa', 'Casa de Condomínio' e 'Casa de Vila':"
   ]
  },
  {
   "cell_type": "code",
   "execution_count": 9,
   "id": "7bbe719e",
   "metadata": {},
   "outputs": [
    {
     "data": {
      "text/plain": [
       "2212"
      ]
     },
     "execution_count": 9,
     "metadata": {},
     "output_type": "execute_result"
    }
   ],
   "source": [
    "selecao= (dados['Tipo']=='Casa') | (dados['Tipo']== 'Casa de Condomínio') | (dados['Tipo'] == 'Casa de Vila')\n",
    "#Quando tem mais de uma condição, tem que pôr o parênteses para diferenciar\n",
    "n2=dados[selecao].shape[0]\n",
    "n2"
   ]
  },
  {
   "cell_type": "markdown",
   "id": "a29083da",
   "metadata": {},
   "source": [
    "Selecione os imóveis com área entre 60 e 100 metros quadrados, incluindo os limites:"
   ]
  },
  {
   "cell_type": "code",
   "execution_count": 11,
   "id": "dddc1a2c",
   "metadata": {},
   "outputs": [
    {
     "data": {
      "text/plain": [
       "8719"
      ]
     },
     "execution_count": 11,
     "metadata": {},
     "output_type": "execute_result"
    }
   ],
   "source": [
    "selecao=(dados['Area']>=60) & (dados['Area']<=100)\n",
    "n3=dados[selecao].shape[0]\n",
    "n3"
   ]
  },
  {
   "cell_type": "markdown",
   "id": "3a716774",
   "metadata": {},
   "source": [
    "Selecionando os imóveis que tenham pelo menos 4 quartos e aluguel menor que R$ 2000,00"
   ]
  },
  {
   "cell_type": "code",
   "execution_count": 13,
   "id": "5364efec",
   "metadata": {},
   "outputs": [
    {
     "data": {
      "text/plain": [
       "41"
      ]
     },
     "execution_count": 13,
     "metadata": {},
     "output_type": "execute_result"
    }
   ],
   "source": [
    "selecao=(dados['Quartos']>=4) & (dados['Valor']<2000)\n",
    "n4=dados[selecao].shape[0]\n",
    "n4"
   ]
  },
  {
   "cell_type": "code",
   "execution_count": 14,
   "id": "54f0f706",
   "metadata": {},
   "outputs": [
    {
     "name": "stdout",
     "output_type": "stream",
     "text": [
      "Nº de imóveis com o tipo Apartamento: 19532\n",
      "Nº de imóveis classificados com tipos Casa, Casa de Condomínio e Casa de Vila: 2212\n",
      "Nº de imóveis com área entre 60 e 100 metros quadrados, incluindo os limites: 8719\n",
      "Nº de imóveis que tenham pelo menos 4 quartos e aluguel menor que R$ 2000,00: 41\n"
     ]
    }
   ],
   "source": [
    "print('Nº de imóveis com o tipo Apartamento: {}'.format(n1))\n",
    "\n",
    "print('Nº de imóveis classificados com tipos Casa, Casa de Condomínio e Casa de Vila: {}'.format(n2))\n",
    "\n",
    "print('Nº de imóveis com área entre 60 e 100 metros quadrados, incluindo os limites: {}'.format(n3))\n",
    "\n",
    "print('Nº de imóveis que tenham pelo menos 4 quartos e aluguel menor que R$ 2000,00: {}'.format(n4))"
   ]
  },
  {
   "cell_type": "code",
   "execution_count": null,
   "id": "74a82b83",
   "metadata": {},
   "outputs": [],
   "source": []
  }
 ],
 "metadata": {
  "kernelspec": {
   "display_name": "Python 3",
   "language": "python",
   "name": "python3"
  },
  "language_info": {
   "codemirror_mode": {
    "name": "ipython",
    "version": 3
   },
   "file_extension": ".py",
   "mimetype": "text/x-python",
   "name": "python",
   "nbconvert_exporter": "python",
   "pygments_lexer": "ipython3",
   "version": "3.8.5"
  }
 },
 "nbformat": 4,
 "nbformat_minor": 5
}
