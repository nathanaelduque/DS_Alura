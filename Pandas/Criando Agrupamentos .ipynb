{
 "cells": [
  {
   "cell_type": "markdown",
   "id": "08d2bea1",
   "metadata": {},
   "source": [
    "# Relatório de Análise 7"
   ]
  },
  {
   "cell_type": "markdown",
   "id": "c4ac0300",
   "metadata": {},
   "source": [
    "## Criando Agrupamentos"
   ]
  },
  {
   "cell_type": "code",
   "execution_count": 33,
   "id": "aff0c951",
   "metadata": {},
   "outputs": [
    {
     "data": {
      "text/html": [
       "<div>\n",
       "<style scoped>\n",
       "    .dataframe tbody tr th:only-of-type {\n",
       "        vertical-align: middle;\n",
       "    }\n",
       "\n",
       "    .dataframe tbody tr th {\n",
       "        vertical-align: top;\n",
       "    }\n",
       "\n",
       "    .dataframe thead th {\n",
       "        text-align: right;\n",
       "    }\n",
       "</style>\n",
       "<table border=\"1\" class=\"dataframe\">\n",
       "  <thead>\n",
       "    <tr style=\"text-align: right;\">\n",
       "      <th></th>\n",
       "      <th>Tipo</th>\n",
       "      <th>Bairro</th>\n",
       "      <th>Quartos</th>\n",
       "      <th>Vagas</th>\n",
       "      <th>Suites</th>\n",
       "      <th>Area</th>\n",
       "      <th>Valor</th>\n",
       "      <th>Condominio</th>\n",
       "      <th>IPTU</th>\n",
       "      <th>Valor m2</th>\n",
       "      <th>Tipo Agregado</th>\n",
       "    </tr>\n",
       "  </thead>\n",
       "  <tbody>\n",
       "    <tr>\n",
       "      <th>0</th>\n",
       "      <td>Quitinete</td>\n",
       "      <td>Copacabana</td>\n",
       "      <td>1</td>\n",
       "      <td>0</td>\n",
       "      <td>0</td>\n",
       "      <td>40</td>\n",
       "      <td>1700.0</td>\n",
       "      <td>500.0</td>\n",
       "      <td>60.0</td>\n",
       "      <td>42.50</td>\n",
       "      <td>Apartamento</td>\n",
       "    </tr>\n",
       "    <tr>\n",
       "      <th>1</th>\n",
       "      <td>Casa</td>\n",
       "      <td>Jardim Botânico</td>\n",
       "      <td>2</td>\n",
       "      <td>0</td>\n",
       "      <td>1</td>\n",
       "      <td>100</td>\n",
       "      <td>7000.0</td>\n",
       "      <td>0.0</td>\n",
       "      <td>0.0</td>\n",
       "      <td>70.00</td>\n",
       "      <td>Casa</td>\n",
       "    </tr>\n",
       "    <tr>\n",
       "      <th>2</th>\n",
       "      <td>Apartamento</td>\n",
       "      <td>Centro</td>\n",
       "      <td>1</td>\n",
       "      <td>0</td>\n",
       "      <td>0</td>\n",
       "      <td>15</td>\n",
       "      <td>800.0</td>\n",
       "      <td>390.0</td>\n",
       "      <td>20.0</td>\n",
       "      <td>53.33</td>\n",
       "      <td>Apartamento</td>\n",
       "    </tr>\n",
       "    <tr>\n",
       "      <th>3</th>\n",
       "      <td>Apartamento</td>\n",
       "      <td>Higienópolis</td>\n",
       "      <td>1</td>\n",
       "      <td>0</td>\n",
       "      <td>0</td>\n",
       "      <td>48</td>\n",
       "      <td>800.0</td>\n",
       "      <td>230.0</td>\n",
       "      <td>0.0</td>\n",
       "      <td>16.67</td>\n",
       "      <td>Apartamento</td>\n",
       "    </tr>\n",
       "    <tr>\n",
       "      <th>4</th>\n",
       "      <td>Apartamento</td>\n",
       "      <td>Cachambi</td>\n",
       "      <td>2</td>\n",
       "      <td>0</td>\n",
       "      <td>0</td>\n",
       "      <td>50</td>\n",
       "      <td>1300.0</td>\n",
       "      <td>301.0</td>\n",
       "      <td>17.0</td>\n",
       "      <td>26.00</td>\n",
       "      <td>Apartamento</td>\n",
       "    </tr>\n",
       "    <tr>\n",
       "      <th>5</th>\n",
       "      <td>Casa de Condomínio</td>\n",
       "      <td>Barra da Tijuca</td>\n",
       "      <td>5</td>\n",
       "      <td>4</td>\n",
       "      <td>5</td>\n",
       "      <td>750</td>\n",
       "      <td>22000.0</td>\n",
       "      <td>0.0</td>\n",
       "      <td>0.0</td>\n",
       "      <td>29.33</td>\n",
       "      <td>Casa</td>\n",
       "    </tr>\n",
       "    <tr>\n",
       "      <th>6</th>\n",
       "      <td>Casa de Condomínio</td>\n",
       "      <td>Ramos</td>\n",
       "      <td>2</td>\n",
       "      <td>2</td>\n",
       "      <td>0</td>\n",
       "      <td>65</td>\n",
       "      <td>1000.0</td>\n",
       "      <td>0.0</td>\n",
       "      <td>0.0</td>\n",
       "      <td>15.38</td>\n",
       "      <td>Casa</td>\n",
       "    </tr>\n",
       "    <tr>\n",
       "      <th>7</th>\n",
       "      <td>Apartamento</td>\n",
       "      <td>Grajaú</td>\n",
       "      <td>2</td>\n",
       "      <td>1</td>\n",
       "      <td>0</td>\n",
       "      <td>70</td>\n",
       "      <td>1500.0</td>\n",
       "      <td>642.0</td>\n",
       "      <td>74.0</td>\n",
       "      <td>21.43</td>\n",
       "      <td>Apartamento</td>\n",
       "    </tr>\n",
       "    <tr>\n",
       "      <th>8</th>\n",
       "      <td>Apartamento</td>\n",
       "      <td>Lins de Vasconcelos</td>\n",
       "      <td>3</td>\n",
       "      <td>1</td>\n",
       "      <td>1</td>\n",
       "      <td>90</td>\n",
       "      <td>1500.0</td>\n",
       "      <td>455.0</td>\n",
       "      <td>14.0</td>\n",
       "      <td>16.67</td>\n",
       "      <td>Apartamento</td>\n",
       "    </tr>\n",
       "    <tr>\n",
       "      <th>9</th>\n",
       "      <td>Apartamento</td>\n",
       "      <td>Copacabana</td>\n",
       "      <td>1</td>\n",
       "      <td>0</td>\n",
       "      <td>1</td>\n",
       "      <td>40</td>\n",
       "      <td>2000.0</td>\n",
       "      <td>561.0</td>\n",
       "      <td>50.0</td>\n",
       "      <td>50.00</td>\n",
       "      <td>Apartamento</td>\n",
       "    </tr>\n",
       "  </tbody>\n",
       "</table>\n",
       "</div>"
      ],
      "text/plain": [
       "                 Tipo               Bairro  Quartos  Vagas  Suites  Area  \\\n",
       "0           Quitinete           Copacabana        1      0       0    40   \n",
       "1                Casa      Jardim Botânico        2      0       1   100   \n",
       "2         Apartamento               Centro        1      0       0    15   \n",
       "3         Apartamento         Higienópolis        1      0       0    48   \n",
       "4         Apartamento             Cachambi        2      0       0    50   \n",
       "5  Casa de Condomínio      Barra da Tijuca        5      4       5   750   \n",
       "6  Casa de Condomínio                Ramos        2      2       0    65   \n",
       "7         Apartamento               Grajaú        2      1       0    70   \n",
       "8         Apartamento  Lins de Vasconcelos        3      1       1    90   \n",
       "9         Apartamento           Copacabana        1      0       1    40   \n",
       "\n",
       "     Valor  Condominio  IPTU  Valor m2 Tipo Agregado  \n",
       "0   1700.0       500.0  60.0     42.50   Apartamento  \n",
       "1   7000.0         0.0   0.0     70.00          Casa  \n",
       "2    800.0       390.0  20.0     53.33   Apartamento  \n",
       "3    800.0       230.0   0.0     16.67   Apartamento  \n",
       "4   1300.0       301.0  17.0     26.00   Apartamento  \n",
       "5  22000.0         0.0   0.0     29.33          Casa  \n",
       "6   1000.0         0.0   0.0     15.38          Casa  \n",
       "7   1500.0       642.0  74.0     21.43   Apartamento  \n",
       "8   1500.0       455.0  14.0     16.67   Apartamento  \n",
       "9   2000.0       561.0  50.0     50.00   Apartamento  "
      ]
     },
     "execution_count": 33,
     "metadata": {},
     "output_type": "execute_result"
    }
   ],
   "source": [
    "import pandas as pd \n",
    "\n",
    "dados=pd.read_csv('dados/aluguel_residencial.csv',sep=';')\n",
    "\n",
    "dados.head(10)"
   ]
  },
  {
   "cell_type": "markdown",
   "id": "60f31e95",
   "metadata": {},
   "source": [
    "Média dos valores dos dados "
   ]
  },
  {
   "cell_type": "code",
   "execution_count": 34,
   "id": "53a81580",
   "metadata": {},
   "outputs": [
    {
     "data": {
      "text/plain": [
       "5046.172821405663"
      ]
     },
     "execution_count": 34,
     "metadata": {},
     "output_type": "execute_result"
    }
   ],
   "source": [
    "dados['Valor'].mean()"
   ]
  },
  {
   "cell_type": "markdown",
   "id": "42e65d11",
   "metadata": {},
   "source": [
    "## Vendo o valor médio de alguns bairros"
   ]
  },
  {
   "cell_type": "code",
   "execution_count": 35,
   "id": "e2fe6a72",
   "metadata": {},
   "outputs": [
    {
     "data": {
      "text/html": [
       "<div>\n",
       "<style scoped>\n",
       "    .dataframe tbody tr th:only-of-type {\n",
       "        vertical-align: middle;\n",
       "    }\n",
       "\n",
       "    .dataframe tbody tr th {\n",
       "        vertical-align: top;\n",
       "    }\n",
       "\n",
       "    .dataframe thead th {\n",
       "        text-align: right;\n",
       "    }\n",
       "</style>\n",
       "<table border=\"1\" class=\"dataframe\">\n",
       "  <thead>\n",
       "    <tr style=\"text-align: right;\">\n",
       "      <th></th>\n",
       "      <th>Tipo</th>\n",
       "      <th>Bairro</th>\n",
       "      <th>Quartos</th>\n",
       "      <th>Vagas</th>\n",
       "      <th>Suites</th>\n",
       "      <th>Area</th>\n",
       "      <th>Valor</th>\n",
       "      <th>Condominio</th>\n",
       "      <th>IPTU</th>\n",
       "      <th>Valor m2</th>\n",
       "      <th>Tipo Agregado</th>\n",
       "    </tr>\n",
       "  </thead>\n",
       "  <tbody>\n",
       "    <tr>\n",
       "      <th>0</th>\n",
       "      <td>Quitinete</td>\n",
       "      <td>Copacabana</td>\n",
       "      <td>1</td>\n",
       "      <td>0</td>\n",
       "      <td>0</td>\n",
       "      <td>40</td>\n",
       "      <td>1700.0</td>\n",
       "      <td>500.0</td>\n",
       "      <td>60.0</td>\n",
       "      <td>42.50</td>\n",
       "      <td>Apartamento</td>\n",
       "    </tr>\n",
       "    <tr>\n",
       "      <th>5</th>\n",
       "      <td>Casa de Condomínio</td>\n",
       "      <td>Barra da Tijuca</td>\n",
       "      <td>5</td>\n",
       "      <td>4</td>\n",
       "      <td>5</td>\n",
       "      <td>750</td>\n",
       "      <td>22000.0</td>\n",
       "      <td>0.0</td>\n",
       "      <td>0.0</td>\n",
       "      <td>29.33</td>\n",
       "      <td>Casa</td>\n",
       "    </tr>\n",
       "    <tr>\n",
       "      <th>9</th>\n",
       "      <td>Apartamento</td>\n",
       "      <td>Copacabana</td>\n",
       "      <td>1</td>\n",
       "      <td>0</td>\n",
       "      <td>1</td>\n",
       "      <td>40</td>\n",
       "      <td>2000.0</td>\n",
       "      <td>561.0</td>\n",
       "      <td>50.0</td>\n",
       "      <td>50.00</td>\n",
       "      <td>Apartamento</td>\n",
       "    </tr>\n",
       "    <tr>\n",
       "      <th>10</th>\n",
       "      <td>Quitinete</td>\n",
       "      <td>Copacabana</td>\n",
       "      <td>1</td>\n",
       "      <td>0</td>\n",
       "      <td>0</td>\n",
       "      <td>27</td>\n",
       "      <td>1800.0</td>\n",
       "      <td>501.0</td>\n",
       "      <td>0.0</td>\n",
       "      <td>66.67</td>\n",
       "      <td>Apartamento</td>\n",
       "    </tr>\n",
       "    <tr>\n",
       "      <th>11</th>\n",
       "      <td>Apartamento</td>\n",
       "      <td>Copacabana</td>\n",
       "      <td>4</td>\n",
       "      <td>3</td>\n",
       "      <td>1</td>\n",
       "      <td>243</td>\n",
       "      <td>13000.0</td>\n",
       "      <td>2000.0</td>\n",
       "      <td>803.0</td>\n",
       "      <td>53.50</td>\n",
       "      <td>Apartamento</td>\n",
       "    </tr>\n",
       "    <tr>\n",
       "      <th>...</th>\n",
       "      <td>...</td>\n",
       "      <td>...</td>\n",
       "      <td>...</td>\n",
       "      <td>...</td>\n",
       "      <td>...</td>\n",
       "      <td>...</td>\n",
       "      <td>...</td>\n",
       "      <td>...</td>\n",
       "      <td>...</td>\n",
       "      <td>...</td>\n",
       "      <td>...</td>\n",
       "    </tr>\n",
       "    <tr>\n",
       "      <th>21816</th>\n",
       "      <td>Apartamento</td>\n",
       "      <td>Leblon</td>\n",
       "      <td>3</td>\n",
       "      <td>0</td>\n",
       "      <td>1</td>\n",
       "      <td>80</td>\n",
       "      <td>3000.0</td>\n",
       "      <td>1010.0</td>\n",
       "      <td>249.0</td>\n",
       "      <td>37.50</td>\n",
       "      <td>Apartamento</td>\n",
       "    </tr>\n",
       "    <tr>\n",
       "      <th>21817</th>\n",
       "      <td>Apartamento</td>\n",
       "      <td>Ipanema</td>\n",
       "      <td>3</td>\n",
       "      <td>1</td>\n",
       "      <td>2</td>\n",
       "      <td>150</td>\n",
       "      <td>15000.0</td>\n",
       "      <td>1400.0</td>\n",
       "      <td>600.0</td>\n",
       "      <td>100.00</td>\n",
       "      <td>Apartamento</td>\n",
       "    </tr>\n",
       "    <tr>\n",
       "      <th>21818</th>\n",
       "      <td>Apartamento</td>\n",
       "      <td>Tijuca</td>\n",
       "      <td>1</td>\n",
       "      <td>0</td>\n",
       "      <td>0</td>\n",
       "      <td>28</td>\n",
       "      <td>1000.0</td>\n",
       "      <td>360.0</td>\n",
       "      <td>25.0</td>\n",
       "      <td>35.71</td>\n",
       "      <td>Apartamento</td>\n",
       "    </tr>\n",
       "    <tr>\n",
       "      <th>21820</th>\n",
       "      <td>Casa de Condomínio</td>\n",
       "      <td>Barra da Tijuca</td>\n",
       "      <td>5</td>\n",
       "      <td>3</td>\n",
       "      <td>4</td>\n",
       "      <td>450</td>\n",
       "      <td>15000.0</td>\n",
       "      <td>1711.0</td>\n",
       "      <td>2332.0</td>\n",
       "      <td>33.33</td>\n",
       "      <td>Casa</td>\n",
       "    </tr>\n",
       "    <tr>\n",
       "      <th>21825</th>\n",
       "      <td>Apartamento</td>\n",
       "      <td>Leblon</td>\n",
       "      <td>2</td>\n",
       "      <td>0</td>\n",
       "      <td>0</td>\n",
       "      <td>70</td>\n",
       "      <td>3000.0</td>\n",
       "      <td>760.0</td>\n",
       "      <td>0.0</td>\n",
       "      <td>42.86</td>\n",
       "      <td>Apartamento</td>\n",
       "    </tr>\n",
       "  </tbody>\n",
       "</table>\n",
       "<p>12216 rows × 11 columns</p>\n",
       "</div>"
      ],
      "text/plain": [
       "                     Tipo           Bairro  Quartos  Vagas  Suites  Area  \\\n",
       "0               Quitinete       Copacabana        1      0       0    40   \n",
       "5      Casa de Condomínio  Barra da Tijuca        5      4       5   750   \n",
       "9             Apartamento       Copacabana        1      0       1    40   \n",
       "10              Quitinete       Copacabana        1      0       0    27   \n",
       "11            Apartamento       Copacabana        4      3       1   243   \n",
       "...                   ...              ...      ...    ...     ...   ...   \n",
       "21816         Apartamento           Leblon        3      0       1    80   \n",
       "21817         Apartamento          Ipanema        3      1       2   150   \n",
       "21818         Apartamento           Tijuca        1      0       0    28   \n",
       "21820  Casa de Condomínio  Barra da Tijuca        5      3       4   450   \n",
       "21825         Apartamento           Leblon        2      0       0    70   \n",
       "\n",
       "         Valor  Condominio    IPTU  Valor m2 Tipo Agregado  \n",
       "0       1700.0       500.0    60.0     42.50   Apartamento  \n",
       "5      22000.0         0.0     0.0     29.33          Casa  \n",
       "9       2000.0       561.0    50.0     50.00   Apartamento  \n",
       "10      1800.0       501.0     0.0     66.67   Apartamento  \n",
       "11     13000.0      2000.0   803.0     53.50   Apartamento  \n",
       "...        ...         ...     ...       ...           ...  \n",
       "21816   3000.0      1010.0   249.0     37.50   Apartamento  \n",
       "21817  15000.0      1400.0   600.0    100.00   Apartamento  \n",
       "21818   1000.0       360.0    25.0     35.71   Apartamento  \n",
       "21820  15000.0      1711.0  2332.0     33.33          Casa  \n",
       "21825   3000.0       760.0     0.0     42.86   Apartamento  \n",
       "\n",
       "[12216 rows x 11 columns]"
      ]
     },
     "execution_count": 35,
     "metadata": {},
     "output_type": "execute_result"
    }
   ],
   "source": [
    "bairros=['Barra da Tijuca','Copacabana','Ipanema','Leblon','Botafogo','Flamengo','Tijuca']\n",
    "\n",
    "\n",
    "selecao=dados['Bairro'].isin(bairros)\n",
    "\n",
    "dados1=dados[selecao]\n",
    "dados1"
   ]
  },
  {
   "cell_type": "code",
   "execution_count": 36,
   "id": "736b0af6",
   "metadata": {},
   "outputs": [
    {
     "data": {
      "text/plain": [
       "0          Copacabana\n",
       "5     Barra da Tijuca\n",
       "15             Tijuca\n",
       "19            Ipanema\n",
       "23           Botafogo\n",
       "27             Leblon\n",
       "78           Flamengo\n",
       "Name: Bairro, dtype: object"
      ]
     },
     "execution_count": 36,
     "metadata": {},
     "output_type": "execute_result"
    }
   ],
   "source": [
    "dados1['Bairro'].drop_duplicates()"
   ]
  },
  {
   "cell_type": "code",
   "execution_count": 37,
   "id": "2fd930fc",
   "metadata": {},
   "outputs": [
    {
     "data": {
      "text/plain": [
       "pandas.core.groupby.generic.DataFrameGroupBy"
      ]
     },
     "execution_count": 37,
     "metadata": {},
     "output_type": "execute_result"
    }
   ],
   "source": [
    "grupo_bairro=dados1.groupby('Bairro')\n",
    "type(grupo_bairro)"
   ]
  },
  {
   "cell_type": "markdown",
   "id": "87d839a2",
   "metadata": {},
   "source": [
    "Foi criada uma DataFrame do tipo groupby!"
   ]
  },
  {
   "cell_type": "code",
   "execution_count": 38,
   "id": "262aac0f",
   "metadata": {},
   "outputs": [
    {
     "data": {
      "text/plain": [
       "{'Barra da Tijuca': [5, 14, 16, 21, 30, 32, 35, 42, 43, 60, 61, 64, 68, 74, 79, 93, 107, 110, 112, 117, 130, 132, 136, 150, 153, 155, 165, 166, 173, 186, 189, 207, 214, 221, 224, 233, 236, 239, 244, 259, 265, 274, 276, 291, 292, 293, 295, 302, 308, 311, 325, 335, 336, 345, 360, 366, 368, 374, 380, 387, 389, 400, 412, 432, 433, 435, 436, 439, 449, 451, 462, 463, 465, 473, 476, 484, 494, 500, 503, 511, 537, 538, 539, 540, 543, 547, 552, 554, 555, 556, 584, 587, 588, 590, 594, 596, 601, 611, 622, 630, ...], 'Botafogo': [23, 48, 87, 88, 111, 119, 127, 134, 196, 200, 225, 334, 362, 415, 416, 498, 524, 526, 545, 593, 649, 685, 719, 756, 765, 822, 827, 861, 915, 924, 928, 1006, 1043, 1080, 1091, 1110, 1116, 1127, 1140, 1165, 1201, 1205, 1223, 1250, 1282, 1295, 1304, 1317, 1348, 1383, 1414, 1419, 1455, 1517, 1529, 1579, 1630, 1655, 1670, 1699, 1741, 1742, 1788, 1814, 1823, 1826, 1853, 1922, 1931, 1957, 1972, 1981, 1989, 2029, 2066, 2069, 2081, 2083, 2084, 2088, 2097, 2148, 2149, 2165, 2179, 2197, 2242, 2247, 2297, 2352, 2381, 2396, 2413, 2431, 2433, 2470, 2509, 2519, 2532, 2580, ...], 'Copacabana': [0, 9, 10, 11, 24, 25, 28, 31, 86, 91, 104, 109, 125, 129, 140, 142, 143, 151, 162, 174, 184, 192, 194, 206, 223, 249, 263, 275, 278, 281, 289, 290, 301, 307, 319, 327, 329, 348, 359, 365, 371, 372, 388, 396, 404, 425, 426, 437, 458, 460, 485, 486, 487, 497, 530, 532, 534, 557, 564, 573, 574, 583, 606, 610, 612, 615, 633, 650, 659, 666, 667, 678, 687, 689, 694, 701, 713, 730, 736, 739, 772, 808, 824, 836, 872, 881, 894, 898, 907, 912, 917, 919, 921, 922, 929, 952, 963, 964, 980, 989, ...], 'Flamengo': [78, 138, 218, 284, 321, 347, 356, 361, 369, 393, 421, 430, 442, 477, 544, 580, 620, 669, 726, 764, 795, 855, 886, 891, 900, 943, 967, 1044, 1099, 1128, 1137, 1209, 1234, 1241, 1359, 1397, 1400, 1507, 1513, 1525, 1536, 1546, 1555, 1602, 1605, 1680, 1696, 1760, 1763, 1834, 1844, 1872, 1940, 1973, 2005, 2010, 2035, 2218, 2227, 2264, 2274, 2311, 2334, 2362, 2374, 2426, 2461, 2529, 2530, 2539, 2542, 2567, 2594, 2626, 2637, 2702, 2710, 2715, 2773, 2777, 2863, 2877, 2920, 2937, 2955, 2975, 3036, 3087, 3102, 3127, 3129, 3138, 3175, 3259, 3284, 3317, 3393, 3399, 3411, 3420, ...], 'Ipanema': [19, 39, 40, 45, 52, 53, 73, 84, 92, 114, 121, 128, 141, 159, 177, 179, 216, 217, 230, 242, 245, 269, 283, 326, 338, 341, 370, 377, 386, 392, 405, 444, 482, 489, 515, 523, 535, 569, 575, 576, 577, 579, 589, 591, 614, 624, 628, 647, 648, 656, 671, 681, 690, 708, 710, 717, 725, 729, 731, 746, 747, 753, 757, 779, 783, 792, 800, 810, 812, 816, 829, 859, 860, 877, 888, 905, 906, 923, 927, 938, 951, 953, 970, 983, 985, 994, 1001, 1010, 1022, 1027, 1033, 1049, 1050, 1052, 1054, 1058, 1060, 1078, 1086, 1092, ...], 'Leblon': [27, 59, 90, 97, 115, 133, 161, 167, 171, 213, 219, 248, 314, 315, 324, 352, 353, 395, 407, 420, 443, 448, 459, 464, 466, 470, 490, 496, 501, 509, 519, 550, 597, 599, 603, 639, 640, 658, 686, 703, 711, 733, 749, 775, 784, 819, 828, 833, 834, 839, 843, 868, 874, 899, 931, 933, 945, 959, 965, 1053, 1059, 1069, 1070, 1072, 1075, 1088, 1104, 1142, 1155, 1161, 1166, 1193, 1204, 1207, 1214, 1216, 1236, 1278, 1279, 1284, 1301, 1302, 1336, 1338, 1346, 1368, 1408, 1411, 1415, 1428, 1503, 1526, 1540, 1547, 1552, 1560, 1587, 1590, 1622, 1623, ...], 'Tijuca': [15, 18, 20, 80, 82, 126, 145, 149, 158, 164, 176, 180, 182, 185, 197, 202, 258, 337, 342, 354, 363, 438, 450, 469, 479, 504, 513, 527, 565, 568, 598, 600, 627, 636, 637, 653, 674, 738, 743, 744, 762, 776, 788, 791, 794, 796, 811, 838, 841, 851, 871, 875, 885, 925, 947, 968, 974, 987, 990, 1020, 1031, 1038, 1061, 1119, 1178, 1181, 1198, 1263, 1277, 1372, 1431, 1435, 1457, 1479, 1530, 1534, 1563, 1565, 1574, 1581, 1634, 1638, 1658, 1679, 1702, 1704, 1718, 1729, 1751, 1778, 1782, 1790, 1820, 1830, 1831, 1836, 1867, 1877, 1900, 1911, ...]}"
      ]
     },
     "execution_count": 38,
     "metadata": {},
     "output_type": "execute_result"
    }
   ],
   "source": [
    "grupo_bairro.groups"
   ]
  },
  {
   "cell_type": "code",
   "execution_count": 39,
   "id": "c21706b4",
   "metadata": {},
   "outputs": [
    {
     "name": "stdout",
     "output_type": "stream",
     "text": [
      "<class 'pandas.core.frame.DataFrame'>\n",
      "<class 'pandas.core.frame.DataFrame'>\n",
      "<class 'pandas.core.frame.DataFrame'>\n",
      "<class 'pandas.core.frame.DataFrame'>\n",
      "<class 'pandas.core.frame.DataFrame'>\n",
      "<class 'pandas.core.frame.DataFrame'>\n",
      "<class 'pandas.core.frame.DataFrame'>\n"
     ]
    }
   ],
   "source": [
    "for bairro,data in grupo_bairro:\n",
    "    print(type(data))"
   ]
  },
  {
   "cell_type": "markdown",
   "id": "a97f950f",
   "metadata": {},
   "source": [
    "O python cria um DataFrame para cada um dos bairros que ele armazenou!"
   ]
  },
  {
   "cell_type": "code",
   "execution_count": 40,
   "id": "a4939e2a",
   "metadata": {},
   "outputs": [
    {
     "name": "stdout",
     "output_type": "stream",
     "text": [
      "Barra da Tijuca -> 7069.552938130986\n",
      "Botafogo -> 8791.828178694159\n",
      "Copacabana -> 4126.677004538578\n",
      "Flamengo -> 4113.526610644258\n",
      "Ipanema -> 9352.001133786847\n",
      "Leblon -> 8746.344992050874\n",
      "Tijuca -> 2043.52\n"
     ]
    }
   ],
   "source": [
    "for bairro,data in grupo_bairro:\n",
    "    print('{} -> {}'.format(bairro,data['Valor'].mean()))"
   ]
  },
  {
   "cell_type": "markdown",
   "id": "3e0f5e2a",
   "metadata": {},
   "source": [
    "Ele calculou a média para cada bairro desses, mas poderia ser dessa seguinte maneira:"
   ]
  },
  {
   "cell_type": "code",
   "execution_count": 41,
   "id": "661521ff",
   "metadata": {},
   "outputs": [
    {
     "data": {
      "text/html": [
       "<div>\n",
       "<style scoped>\n",
       "    .dataframe tbody tr th:only-of-type {\n",
       "        vertical-align: middle;\n",
       "    }\n",
       "\n",
       "    .dataframe tbody tr th {\n",
       "        vertical-align: top;\n",
       "    }\n",
       "\n",
       "    .dataframe thead th {\n",
       "        text-align: right;\n",
       "    }\n",
       "</style>\n",
       "<table border=\"1\" class=\"dataframe\">\n",
       "  <thead>\n",
       "    <tr style=\"text-align: right;\">\n",
       "      <th></th>\n",
       "      <th>Valor</th>\n",
       "      <th>Condominio</th>\n",
       "    </tr>\n",
       "    <tr>\n",
       "      <th>Bairro</th>\n",
       "      <th></th>\n",
       "      <th></th>\n",
       "    </tr>\n",
       "  </thead>\n",
       "  <tbody>\n",
       "    <tr>\n",
       "      <th>Barra da Tijuca</th>\n",
       "      <td>7069.55</td>\n",
       "      <td>3591.01</td>\n",
       "    </tr>\n",
       "    <tr>\n",
       "      <th>Botafogo</th>\n",
       "      <td>8791.83</td>\n",
       "      <td>976.28</td>\n",
       "    </tr>\n",
       "    <tr>\n",
       "      <th>Copacabana</th>\n",
       "      <td>4126.68</td>\n",
       "      <td>1148.68</td>\n",
       "    </tr>\n",
       "    <tr>\n",
       "      <th>Flamengo</th>\n",
       "      <td>4113.53</td>\n",
       "      <td>1102.15</td>\n",
       "    </tr>\n",
       "    <tr>\n",
       "      <th>Ipanema</th>\n",
       "      <td>9352.00</td>\n",
       "      <td>2244.44</td>\n",
       "    </tr>\n",
       "    <tr>\n",
       "      <th>Leblon</th>\n",
       "      <td>8746.34</td>\n",
       "      <td>2107.18</td>\n",
       "    </tr>\n",
       "    <tr>\n",
       "      <th>Tijuca</th>\n",
       "      <td>2043.52</td>\n",
       "      <td>711.69</td>\n",
       "    </tr>\n",
       "  </tbody>\n",
       "</table>\n",
       "</div>"
      ],
      "text/plain": [
       "                   Valor  Condominio\n",
       "Bairro                              \n",
       "Barra da Tijuca  7069.55     3591.01\n",
       "Botafogo         8791.83      976.28\n",
       "Copacabana       4126.68     1148.68\n",
       "Flamengo         4113.53     1102.15\n",
       "Ipanema          9352.00     2244.44\n",
       "Leblon           8746.34     2107.18\n",
       "Tijuca           2043.52      711.69"
      ]
     },
     "execution_count": 41,
     "metadata": {},
     "output_type": "execute_result"
    }
   ],
   "source": [
    "grupo_bairro[['Valor','Condominio']].mean().round(2)"
   ]
  },
  {
   "cell_type": "markdown",
   "id": "2079dd67",
   "metadata": {},
   "source": [
    "## Estatísticas Descritivas "
   ]
  },
  {
   "cell_type": "markdown",
   "id": "97bcc9dc",
   "metadata": {},
   "source": [
    "Vamos gerar um conjunto de estatísticas sobre os bairros "
   ]
  },
  {
   "cell_type": "code",
   "execution_count": 42,
   "id": "0d50cd51",
   "metadata": {},
   "outputs": [
    {
     "data": {
      "text/html": [
       "<div>\n",
       "<style scoped>\n",
       "    .dataframe tbody tr th:only-of-type {\n",
       "        vertical-align: middle;\n",
       "    }\n",
       "\n",
       "    .dataframe tbody tr th {\n",
       "        vertical-align: top;\n",
       "    }\n",
       "\n",
       "    .dataframe thead th {\n",
       "        text-align: right;\n",
       "    }\n",
       "</style>\n",
       "<table border=\"1\" class=\"dataframe\">\n",
       "  <thead>\n",
       "    <tr style=\"text-align: right;\">\n",
       "      <th></th>\n",
       "      <th>count</th>\n",
       "      <th>mean</th>\n",
       "      <th>std</th>\n",
       "      <th>min</th>\n",
       "      <th>25%</th>\n",
       "      <th>50%</th>\n",
       "      <th>75%</th>\n",
       "      <th>max</th>\n",
       "    </tr>\n",
       "    <tr>\n",
       "      <th>Bairro</th>\n",
       "      <th></th>\n",
       "      <th></th>\n",
       "      <th></th>\n",
       "      <th></th>\n",
       "      <th></th>\n",
       "      <th></th>\n",
       "      <th></th>\n",
       "      <th></th>\n",
       "    </tr>\n",
       "  </thead>\n",
       "  <tbody>\n",
       "    <tr>\n",
       "      <th>Barra da Tijuca</th>\n",
       "      <td>3863.0</td>\n",
       "      <td>7069.55</td>\n",
       "      <td>11874.15</td>\n",
       "      <td>800.0</td>\n",
       "      <td>2500.0</td>\n",
       "      <td>4500.0</td>\n",
       "      <td>8500.0</td>\n",
       "      <td>600000.0</td>\n",
       "    </tr>\n",
       "    <tr>\n",
       "      <th>Botafogo</th>\n",
       "      <td>873.0</td>\n",
       "      <td>8791.83</td>\n",
       "      <td>152202.41</td>\n",
       "      <td>700.0</td>\n",
       "      <td>2200.0</td>\n",
       "      <td>3000.0</td>\n",
       "      <td>4350.0</td>\n",
       "      <td>4500000.0</td>\n",
       "    </tr>\n",
       "    <tr>\n",
       "      <th>Copacabana</th>\n",
       "      <td>2644.0</td>\n",
       "      <td>4126.68</td>\n",
       "      <td>3611.41</td>\n",
       "      <td>100.0</td>\n",
       "      <td>2000.0</td>\n",
       "      <td>3000.0</td>\n",
       "      <td>4800.0</td>\n",
       "      <td>35000.0</td>\n",
       "    </tr>\n",
       "    <tr>\n",
       "      <th>Flamengo</th>\n",
       "      <td>714.0</td>\n",
       "      <td>4113.53</td>\n",
       "      <td>3839.13</td>\n",
       "      <td>800.0</td>\n",
       "      <td>1900.0</td>\n",
       "      <td>2900.0</td>\n",
       "      <td>4975.0</td>\n",
       "      <td>35000.0</td>\n",
       "    </tr>\n",
       "    <tr>\n",
       "      <th>Ipanema</th>\n",
       "      <td>1764.0</td>\n",
       "      <td>9352.00</td>\n",
       "      <td>8219.72</td>\n",
       "      <td>1200.0</td>\n",
       "      <td>4500.0</td>\n",
       "      <td>7000.0</td>\n",
       "      <td>11000.0</td>\n",
       "      <td>90000.0</td>\n",
       "    </tr>\n",
       "    <tr>\n",
       "      <th>Leblon</th>\n",
       "      <td>1258.0</td>\n",
       "      <td>8746.34</td>\n",
       "      <td>7004.04</td>\n",
       "      <td>100.0</td>\n",
       "      <td>4500.0</td>\n",
       "      <td>7000.0</td>\n",
       "      <td>10500.0</td>\n",
       "      <td>100000.0</td>\n",
       "    </tr>\n",
       "    <tr>\n",
       "      <th>Tijuca</th>\n",
       "      <td>1100.0</td>\n",
       "      <td>2043.52</td>\n",
       "      <td>1664.34</td>\n",
       "      <td>750.0</td>\n",
       "      <td>1500.0</td>\n",
       "      <td>1800.0</td>\n",
       "      <td>2300.0</td>\n",
       "      <td>45000.0</td>\n",
       "    </tr>\n",
       "  </tbody>\n",
       "</table>\n",
       "</div>"
      ],
      "text/plain": [
       "                  count     mean        std     min     25%     50%      75%  \\\n",
       "Bairro                                                                         \n",
       "Barra da Tijuca  3863.0  7069.55   11874.15   800.0  2500.0  4500.0   8500.0   \n",
       "Botafogo          873.0  8791.83  152202.41   700.0  2200.0  3000.0   4350.0   \n",
       "Copacabana       2644.0  4126.68    3611.41   100.0  2000.0  3000.0   4800.0   \n",
       "Flamengo          714.0  4113.53    3839.13   800.0  1900.0  2900.0   4975.0   \n",
       "Ipanema          1764.0  9352.00    8219.72  1200.0  4500.0  7000.0  11000.0   \n",
       "Leblon           1258.0  8746.34    7004.04   100.0  4500.0  7000.0  10500.0   \n",
       "Tijuca           1100.0  2043.52    1664.34   750.0  1500.0  1800.0   2300.0   \n",
       "\n",
       "                       max  \n",
       "Bairro                      \n",
       "Barra da Tijuca   600000.0  \n",
       "Botafogo         4500000.0  \n",
       "Copacabana         35000.0  \n",
       "Flamengo           35000.0  \n",
       "Ipanema            90000.0  \n",
       "Leblon            100000.0  \n",
       "Tijuca             45000.0  "
      ]
     },
     "execution_count": 42,
     "metadata": {},
     "output_type": "execute_result"
    }
   ],
   "source": [
    "grupo_bairro['Valor'].describe().round(2)"
   ]
  },
  {
   "cell_type": "markdown",
   "id": "20ad616d",
   "metadata": {},
   "source": [
    "Olhando os dados, percebemos que Botafogo e Barra da Tijuca possuem uma variação bastante elevada"
   ]
  },
  {
   "cell_type": "markdown",
   "id": "9a9e5d91",
   "metadata": {},
   "source": [
    "Além disso, vemos que existe um ou mais imóveis em Botafogo que estão para alocação por 4,5 milhões e também que existe um ou mais imóveis na Barra da Tijuca por 600.000,00\n",
    "\n",
    "podemos ver também outros tipos ou então somente algumas das estatísticas utilizando :"
   ]
  },
  {
   "cell_type": "code",
   "execution_count": 43,
   "id": "4d9ce67b",
   "metadata": {},
   "outputs": [
    {
     "data": {
      "text/html": [
       "<div>\n",
       "<style scoped>\n",
       "    .dataframe tbody tr th:only-of-type {\n",
       "        vertical-align: middle;\n",
       "    }\n",
       "\n",
       "    .dataframe tbody tr th {\n",
       "        vertical-align: top;\n",
       "    }\n",
       "\n",
       "    .dataframe thead th {\n",
       "        text-align: right;\n",
       "    }\n",
       "</style>\n",
       "<table border=\"1\" class=\"dataframe\">\n",
       "  <thead>\n",
       "    <tr style=\"text-align: right;\">\n",
       "      <th></th>\n",
       "      <th>min</th>\n",
       "      <th>max</th>\n",
       "      <th>sum</th>\n",
       "    </tr>\n",
       "    <tr>\n",
       "      <th>Bairro</th>\n",
       "      <th></th>\n",
       "      <th></th>\n",
       "      <th></th>\n",
       "    </tr>\n",
       "  </thead>\n",
       "  <tbody>\n",
       "    <tr>\n",
       "      <th>Barra da Tijuca</th>\n",
       "      <td>800.0</td>\n",
       "      <td>600000.0</td>\n",
       "      <td>27309683.0</td>\n",
       "    </tr>\n",
       "    <tr>\n",
       "      <th>Botafogo</th>\n",
       "      <td>700.0</td>\n",
       "      <td>4500000.0</td>\n",
       "      <td>7675266.0</td>\n",
       "    </tr>\n",
       "    <tr>\n",
       "      <th>Copacabana</th>\n",
       "      <td>100.0</td>\n",
       "      <td>35000.0</td>\n",
       "      <td>10910934.0</td>\n",
       "    </tr>\n",
       "    <tr>\n",
       "      <th>Flamengo</th>\n",
       "      <td>800.0</td>\n",
       "      <td>35000.0</td>\n",
       "      <td>2937058.0</td>\n",
       "    </tr>\n",
       "    <tr>\n",
       "      <th>Ipanema</th>\n",
       "      <td>1200.0</td>\n",
       "      <td>90000.0</td>\n",
       "      <td>16496930.0</td>\n",
       "    </tr>\n",
       "    <tr>\n",
       "      <th>Leblon</th>\n",
       "      <td>100.0</td>\n",
       "      <td>100000.0</td>\n",
       "      <td>11002902.0</td>\n",
       "    </tr>\n",
       "    <tr>\n",
       "      <th>Tijuca</th>\n",
       "      <td>750.0</td>\n",
       "      <td>45000.0</td>\n",
       "      <td>2247872.0</td>\n",
       "    </tr>\n",
       "  </tbody>\n",
       "</table>\n",
       "</div>"
      ],
      "text/plain": [
       "                    min        max         sum\n",
       "Bairro                                        \n",
       "Barra da Tijuca   800.0   600000.0  27309683.0\n",
       "Botafogo          700.0  4500000.0   7675266.0\n",
       "Copacabana        100.0    35000.0  10910934.0\n",
       "Flamengo          800.0    35000.0   2937058.0\n",
       "Ipanema          1200.0    90000.0  16496930.0\n",
       "Leblon            100.0   100000.0  11002902.0\n",
       "Tijuca            750.0    45000.0   2247872.0"
      ]
     },
     "execution_count": 43,
     "metadata": {},
     "output_type": "execute_result"
    }
   ],
   "source": [
    "grupo_bairro['Valor'].aggregate(['min','max','sum']) # aggregate vai  mostrar somente as que eu pedi"
   ]
  },
  {
   "cell_type": "code",
   "execution_count": 44,
   "id": "28cc8166",
   "metadata": {},
   "outputs": [
    {
     "data": {
      "text/html": [
       "<div>\n",
       "<style scoped>\n",
       "    .dataframe tbody tr th:only-of-type {\n",
       "        vertical-align: middle;\n",
       "    }\n",
       "\n",
       "    .dataframe tbody tr th {\n",
       "        vertical-align: top;\n",
       "    }\n",
       "\n",
       "    .dataframe thead th {\n",
       "        text-align: right;\n",
       "    }\n",
       "</style>\n",
       "<table border=\"1\" class=\"dataframe\">\n",
       "  <thead>\n",
       "    <tr style=\"text-align: right;\">\n",
       "      <th></th>\n",
       "      <th>Mínimo</th>\n",
       "      <th>Máximo</th>\n",
       "    </tr>\n",
       "    <tr>\n",
       "      <th>Bairro</th>\n",
       "      <th></th>\n",
       "      <th></th>\n",
       "    </tr>\n",
       "  </thead>\n",
       "  <tbody>\n",
       "    <tr>\n",
       "      <th>Barra da Tijuca</th>\n",
       "      <td>800.0</td>\n",
       "      <td>600000.0</td>\n",
       "    </tr>\n",
       "    <tr>\n",
       "      <th>Botafogo</th>\n",
       "      <td>700.0</td>\n",
       "      <td>4500000.0</td>\n",
       "    </tr>\n",
       "    <tr>\n",
       "      <th>Copacabana</th>\n",
       "      <td>100.0</td>\n",
       "      <td>35000.0</td>\n",
       "    </tr>\n",
       "    <tr>\n",
       "      <th>Flamengo</th>\n",
       "      <td>800.0</td>\n",
       "      <td>35000.0</td>\n",
       "    </tr>\n",
       "    <tr>\n",
       "      <th>Ipanema</th>\n",
       "      <td>1200.0</td>\n",
       "      <td>90000.0</td>\n",
       "    </tr>\n",
       "    <tr>\n",
       "      <th>Leblon</th>\n",
       "      <td>100.0</td>\n",
       "      <td>100000.0</td>\n",
       "    </tr>\n",
       "    <tr>\n",
       "      <th>Tijuca</th>\n",
       "      <td>750.0</td>\n",
       "      <td>45000.0</td>\n",
       "    </tr>\n",
       "  </tbody>\n",
       "</table>\n",
       "</div>"
      ],
      "text/plain": [
       "                 Mínimo     Máximo\n",
       "Bairro                            \n",
       "Barra da Tijuca   800.0   600000.0\n",
       "Botafogo          700.0  4500000.0\n",
       "Copacabana        100.0    35000.0\n",
       "Flamengo          800.0    35000.0\n",
       "Ipanema          1200.0    90000.0\n",
       "Leblon            100.0   100000.0\n",
       "Tijuca            750.0    45000.0"
      ]
     },
     "execution_count": 44,
     "metadata": {},
     "output_type": "execute_result"
    }
   ],
   "source": [
    "#Se quisermos renomear essas variáveis:\n",
    "\n",
    "grupo_bairro['Valor'].aggregate(['min','max']).rename(columns={'min':'Mínimo','max':'Máximo'})"
   ]
  },
  {
   "cell_type": "markdown",
   "id": "3f840388",
   "metadata": {},
   "source": [
    "Isso só funciona porque temos um conjunto limitado de dados, se tivessemos todos os Bairros do Rio de Janeiro seria mais difícil ver algum tipo de erro em uma base de dados tão grande.\n",
    "\n",
    "Para analisarmos quando temos um grande número de dados, utilizamos gráficos"
   ]
  },
  {
   "cell_type": "code",
   "execution_count": 45,
   "id": "d12e9f42",
   "metadata": {},
   "outputs": [],
   "source": [
    "#Primeiramente, vamos ver uma figura estática\n",
    "%matplotlib inline\n",
    "import matplotlib.pyplot as plt\n",
    "#Vamos também ajustar o tamanho da Figura:\n",
    "plt.rc('figure',figsize=(20,10))"
   ]
  },
  {
   "cell_type": "code",
   "execution_count": 51,
   "id": "1cd4be2b",
   "metadata": {},
   "outputs": [
    {
     "data": {
      "text/plain": [
       "Text(0.5, 1.0, 'Valor Médio do Aluguel por Bairro')"
      ]
     },
     "execution_count": 51,
     "metadata": {},
     "output_type": "execute_result"
    },
    {
     "data": {
      "image/png": "[encoded data removed]",
      "text/plain": [
       "<Figure size 1440x720 with 1 Axes>"
      ]
     },
     "metadata": {
      "needs_background": "light"
     },
     "output_type": "display_data"
    }
   ],
   "source": [
    "#Vamos reescrever a base grupo_bairro com todos os bairros do RJ\n",
    "\n",
    "grupo_bairro=dados.groupby('Bairro')\n",
    "\n",
    "fig=grupo_bairro['Valor'].mean().plot.bar(color='blue')\n",
    "fig.set_ylabel('Valor do Aluguel')\n",
    "fig.set_title('Valor Médio do Aluguel por Bairro',{'fontsize':22})"
   ]
  },
  {
   "cell_type": "code",
   "execution_count": 52,
   "id": "cd0c536a",
   "metadata": {},
   "outputs": [
    {
     "data": {
      "text/plain": [
       "Text(0.5, 1.0, 'Valor Médio do Aluguel por Bairro')"
      ]
     },
     "execution_count": 52,
     "metadata": {},
     "output_type": "execute_result"
    },
    {
     "data": {
      "image/png": "[encoded data removed]",
      "text/plain": [
       "<Figure size 1440x720 with 1 Axes>"
      ]
     },
     "metadata": {
      "needs_background": "light"
     },
     "output_type": "display_data"
    }
   ],
   "source": [
    "#Agora vamos ver para os bairros escolhidos:\n",
    "grupo_bairro=dados1.groupby('Bairro')\n",
    "\n",
    "fig=grupo_bairro['Valor'].mean().plot.bar(color='blue')\n",
    "fig.set_ylabel('Valor do Aluguel')\n",
    "fig.set_title('Valor Médio do Aluguel por Bairro',{'fontsize':22})"
   ]
  },
  {
   "cell_type": "markdown",
   "id": "8a07dce2",
   "metadata": {},
   "source": [
    "Podemos ver também os valores máximos"
   ]
  },
  {
   "cell_type": "code",
   "execution_count": 53,
   "id": "41678294",
   "metadata": {},
   "outputs": [
    {
     "data": {
      "text/plain": [
       "Text(0.5, 1.0, 'Valor Médio do Aluguel por Bairro')"
      ]
     },
     "execution_count": 53,
     "metadata": {},
     "output_type": "execute_result"
    },
    {
     "data": {
      "image/png": "[encoded data removed]",
      "text/plain": [
       "<Figure size 1440x720 with 1 Axes>"
      ]
     },
     "metadata": {
      "needs_background": "light"
     },
     "output_type": "display_data"
    }
   ],
   "source": [
    "fig=grupo_bairro['Valor'].max().plot.bar(color='blue')\n",
    "fig.set_ylabel('Valor do Aluguel')\n",
    "fig.set_title('Valor Médio do Aluguel por Bairro',{'fontsize':22})"
   ]
  }
 ],
 "metadata": {
  "kernelspec": {
   "display_name": "Python 3",
   "language": "python",
   "name": "python3"
  },
  "language_info": {
   "codemirror_mode": {
    "name": "ipython",
    "version": 3
   },
   "file_extension": ".py",
   "mimetype": "text/x-python",
   "name": "python",
   "nbconvert_exporter": "python",
   "pygments_lexer": "ipython3",
   "version": "3.8.5"
  }
 },
 "nbformat": 4,
 "nbformat_minor": 5
}
